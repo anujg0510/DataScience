{
 "cells": [
  {
   "cell_type": "code",
   "execution_count": 1,
   "metadata": {},
   "outputs": [],
   "source": [
    "import numpy as np\n",
    "import pandas as pd\n",
    "import random"
   ]
  },
  {
   "cell_type": "markdown",
   "metadata": {},
   "source": [
    "### Strategy 1: Participant choses to stay with the original choice"
   ]
  },
  {
   "cell_type": "code",
   "execution_count": 2,
   "metadata": {},
   "outputs": [
    {
     "name": "stdout",
     "output_type": "stream",
     "text": [
      "Probability of winning with NO CHANGE in choice:  0.331\n"
     ]
    }
   ],
   "source": [
    "Strategy1_Wins = 0\n",
    "Counter = 0\n",
    "for i in range(0,1000):\n",
    "    Doors = [0,0,0]                      # 1=Prize, 0=No prize; initiate all doors with 0\n",
    "    Door_Numbers = np.arange(0,3)\n",
    "    Win = random.choice(Door_Numbers)    # Define the door with the prize\n",
    "    Doors[Win] = 1                       # Switch the value of this door to 1\n",
    "    Choice = random.choice(Door_Numbers) #Participant makes a random choice out of 3 doors\n",
    "    Host_Door = random.choice([x for x in Door_Numbers if x not in (Choice, Win)])  #Host opens a door with 0 value\n",
    "    if(Doors[Choice]==1):\n",
    "        Strategy1_Wins = Strategy1_Wins + 1     #Counting the wins\n",
    "    Counter = Counter + 1                       #Counting the iterations, just for verification\n",
    "print (\"Probability of winning with NO CHANGE in choice: \", Strategy1_Wins/Counter)"
   ]
  },
  {
   "cell_type": "markdown",
   "metadata": {},
   "source": [
    "### Strategy 2: Participant switches over to the other door after host opens a door"
   ]
  },
  {
   "cell_type": "code",
   "execution_count": 3,
   "metadata": {},
   "outputs": [
    {
     "name": "stdout",
     "output_type": "stream",
     "text": [
      "Probability of winning WITH change in choice:  0.652\n"
     ]
    }
   ],
   "source": [
    "Strategy2_Wins = 0\n",
    "Counter = 0\n",
    "for i in range(0,1000):\n",
    "    Doors = [0,0,0]\n",
    "    Door_Numbers = np.arange(0,3)\n",
    "    Win = random.choice(Door_Numbers)\n",
    "    Doors[Win] = 1\n",
    "    Choice = random.choice(Door_Numbers)\n",
    "    Host_Door = random.choice([x for x in Door_Numbers if x not in (Choice, Win)])\n",
    "    \n",
    "    #Under Strategy 2, participant switches the door after the host opens the door in above step\n",
    "    Choice = random.choice([x for x in Door_Numbers if x!= Choice and x != Host_Door]) \n",
    "    if(Doors[Choice]==1):\n",
    "        Strategy2_Wins = Strategy2_Wins + 1     #Counting the wins\n",
    "    Counter = Counter + 1                       #Counting the iterations, just for verification\n",
    "print (\"Probability of winning WITH change in choice: \", Strategy2_Wins/Counter)"
   ]
  },
  {
   "cell_type": "markdown",
   "metadata": {},
   "source": [
    "##### CONCLUSION:\n",
    "A 1000 iterations of each of the strategies show clearly that chances of winning are much more when the participant decides to switch the door of choice, after the host reveals one of the empty doors."
   ]
  }
 ],
 "metadata": {
  "kernelspec": {
   "display_name": "Python 3",
   "language": "python",
   "name": "python3"
  },
  "language_info": {
   "codemirror_mode": {
    "name": "ipython",
    "version": 3
   },
   "file_extension": ".py",
   "mimetype": "text/x-python",
   "name": "python",
   "nbconvert_exporter": "python",
   "pygments_lexer": "ipython3",
   "version": "3.6.5"
  }
 },
 "nbformat": 4,
 "nbformat_minor": 2
}
