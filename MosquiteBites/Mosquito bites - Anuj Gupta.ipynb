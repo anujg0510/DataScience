{
 "cells": [
  {
   "cell_type": "code",
   "execution_count": 2,
   "metadata": {},
   "outputs": [],
   "source": [
    "import numpy as np\n",
    "import pandas as pd\n",
    "import matplotlib.pyplot as plt\n",
    "import seaborn as sns\n",
    "from pandas import DataFrame"
   ]
  },
  {
   "cell_type": "code",
   "execution_count": 3,
   "metadata": {},
   "outputs": [
    {
     "data": {
      "text/html": [
       "<div>\n",
       "<style scoped>\n",
       "    .dataframe tbody tr th:only-of-type {\n",
       "        vertical-align: middle;\n",
       "    }\n",
       "\n",
       "    .dataframe tbody tr th {\n",
       "        vertical-align: top;\n",
       "    }\n",
       "\n",
       "    .dataframe thead th {\n",
       "        text-align: right;\n",
       "    }\n",
       "</style>\n",
       "<table border=\"1\" class=\"dataframe\">\n",
       "  <thead>\n",
       "    <tr style=\"text-align: right;\">\n",
       "      <th></th>\n",
       "      <th>Response</th>\n",
       "      <th>Treatment</th>\n",
       "    </tr>\n",
       "  </thead>\n",
       "  <tbody>\n",
       "    <tr>\n",
       "      <th>0</th>\n",
       "      <td>27</td>\n",
       "      <td>Beer</td>\n",
       "    </tr>\n",
       "    <tr>\n",
       "      <th>1</th>\n",
       "      <td>20</td>\n",
       "      <td>Beer</td>\n",
       "    </tr>\n",
       "    <tr>\n",
       "      <th>2</th>\n",
       "      <td>21</td>\n",
       "      <td>Beer</td>\n",
       "    </tr>\n",
       "    <tr>\n",
       "      <th>3</th>\n",
       "      <td>26</td>\n",
       "      <td>Beer</td>\n",
       "    </tr>\n",
       "    <tr>\n",
       "      <th>4</th>\n",
       "      <td>27</td>\n",
       "      <td>Beer</td>\n",
       "    </tr>\n",
       "  </tbody>\n",
       "</table>\n",
       "</div>"
      ],
      "text/plain": [
       "   Response Treatment\n",
       "0        27      Beer\n",
       "1        20      Beer\n",
       "2        21      Beer\n",
       "3        26      Beer\n",
       "4        27      Beer"
      ]
     },
     "execution_count": 3,
     "metadata": {},
     "output_type": "execute_result"
    }
   ],
   "source": [
    "df = pd.read_csv('/Users/anujgupta/Documents/pythonds/3251 - Statistics for DS/Assignment 1/mosquitos_data.csv')\n",
    "df.head()"
   ]
  },
  {
   "cell_type": "code",
   "execution_count": 4,
   "metadata": {},
   "outputs": [],
   "source": [
    "df_water = df[df.Treatment==\"Water\"]\n",
    "df_beer = df[df.Treatment==\"Beer\"]"
   ]
  },
  {
   "cell_type": "code",
   "execution_count": 5,
   "metadata": {},
   "outputs": [],
   "source": [
    "list_water = df_water.Response\n",
    "list_beer = df_beer.Response"
   ]
  },
  {
   "cell_type": "code",
   "execution_count": 6,
   "metadata": {},
   "outputs": [
    {
     "data": {
      "text/plain": [
       "<matplotlib.axes._subplots.AxesSubplot at 0x1a105ea320>"
      ]
     },
     "execution_count": 6,
     "metadata": {},
     "output_type": "execute_result"
    },
    {
     "data": {
      "image/png": "[encoded data removed]",
      "text/plain": [
       "<Figure size 432x288 with 1 Axes>"
      ]
     },
     "metadata": {},
     "output_type": "display_data"
    }
   ],
   "source": [
    "sns.boxplot(x='Treatment', y='Response', data=df, notch=True)"
   ]
  },
  {
   "cell_type": "markdown",
   "metadata": {},
   "source": [
    "Interpreting the box plots:\n",
    "1. Cleearly, the beer drinkers have a higher median value in terms of mosquite bites than the water drinkers\n",
    "2. Water drinkers have a much larger lower whisker, suggesting a higher density towards the lower spectrum of data\n",
    "3. The overall placements and extant of the box plots and the whiskers clearly indicate that the water drinkers tend to have lesser mosquito bites than the beer drinkers\n",
    "\n",
    "Conclusion: Beer drinkers attract more mosquitos than the water drinkers"
   ]
  },
  {
   "cell_type": "code",
   "execution_count": null,
   "metadata": {},
   "outputs": [],
   "source": [
    "print(\"Beer drinkers basic statistics::\")\n",
    "print(\"MEAN: \", df.loc[df.Treatment=='Beer'].mean())\n",
    "print(\"MEDIAN: \", df.loc[df.Treatment=='Beer'].median())\n",
    "print(\"STANDARD DEVIATION: \", df.loc[df.Treatment=='Beer'].std())"
   ]
  },
  {
   "cell_type": "code",
   "execution_count": null,
   "metadata": {},
   "outputs": [],
   "source": [
    "print(\"Water drinkers basic statistics::\")\n",
    "print(\"MEAN: \", df.loc[df.Treatment=='Water'].mean())\n",
    "print(\"MEDIAN: \", df.loc[df.Treatment=='Water'].median())\n",
    "print(\"STANDARD DEVIATION: \", df.loc[df.Treatment=='Water'].std())"
   ]
  },
  {
   "cell_type": "markdown",
   "metadata": {},
   "source": [
    "INTERPRETATION:\n",
    "\n",
    "Beer drinkers have a higher mean, meaning more number of per capita mosquito bites than water consumers.\n",
    "\n",
    "A higher median for beer consumption hints at beer consumption attracting higher number of mosquitos, as seen in the box plots above."
   ]
  },
  {
   "cell_type": "code",
   "execution_count": 20,
   "metadata": {},
   "outputs": [
    {
     "name": "stderr",
     "output_type": "stream",
     "text": [
      "/Users/anujgupta/anaconda3/lib/python3.6/site-packages/matplotlib/axes/_axes.py:6462: UserWarning: The 'normed' kwarg is deprecated, and has been replaced by the 'density' kwarg.\n",
      "  warnings.warn(\"The 'normed' kwarg is deprecated, and has been \"\n"
     ]
    },
    {
     "data": {
      "image/png": "[encoded data removed]",
      "text/plain": [
       "<Figure size 432x288 with 1 Axes>"
      ]
     },
     "metadata": {},
     "output_type": "display_data"
    }
   ],
   "source": [
    "df_simulation = df['Response'].values\n",
    "mean_differences = []                            #Creating a list to store mean differences for 50000 iterations\n",
    "for counter in range(0,50000):\n",
    "    np.random.shuffle(df_simulation)             #Randomly shuffle the data in place\n",
    "    beer_mean = df_simulation[:25].mean()        #Compute mean for Beer drinkers - first 25 values\n",
    "    water_mean = df_simulation[25:].mean()       #Compute mean for Water drinkers - last 18 values\n",
    "    difference = beer_mean - water_mean          #Compute the difference between the two mean values\n",
    "    mean_differences.append(difference)          #Appending this value to the new list of mean differences\n",
    "ax = sns.distplot(mean_differences)              #Plotting the mean distributions for 50,000 iterations"
   ]
  },
  {
   "cell_type": "markdown",
   "metadata": {},
   "source": [
    "INTERPRETATION:\n",
    "\n",
    "The above graph shows a distribution of 50000 values of mean differences between beer & water consumption. The distribution is normal and clearly shows that a difference of 4.1 is rare and statistically significant. "
   ]
  }
 ],
 "metadata": {
  "kernelspec": {
   "display_name": "Python 3",
   "language": "python",
   "name": "python3"
  },
  "language_info": {
   "codemirror_mode": {
    "name": "ipython",
    "version": 3
   },
   "file_extension": ".py",
   "mimetype": "text/x-python",
   "name": "python",
   "nbconvert_exporter": "python",
   "pygments_lexer": "ipython3",
   "version": "3.6.5"
  }
 },
 "nbformat": 4,
 "nbformat_minor": 2
}
